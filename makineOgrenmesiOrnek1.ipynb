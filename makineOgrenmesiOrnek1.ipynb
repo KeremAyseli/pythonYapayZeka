{
  "nbformat": 4,
  "nbformat_minor": 0,
  "metadata": {
    "colab": {
      "name": "Untitled0.ipynb",
      "provenance": [],
      "collapsed_sections": [],
      "toc_visible": true,
      "authorship_tag": "ABX9TyNlQYSZeCjBys5eJwONb/Wo",
      "include_colab_link": true
    },
    "kernelspec": {
      "name": "python3",
      "display_name": "Python 3"
    },
    "language_info": {
      "name": "python"
    },
    "accelerator": "TPU"
  },
  "cells": [
    {
      "cell_type": "markdown",
      "metadata": {
        "id": "view-in-github",
        "colab_type": "text"
      },
      "source": [
        "<a href=\"https://colab.research.google.com/github/KeremAyseli/pythonYapayZeka/blob/main/makineOgrenmesiOrnek1.ipynb\" target=\"_parent\"><img src=\"https://colab.research.google.com/assets/colab-badge.svg\" alt=\"Open In Colab\"/></a>"
      ]
    },
    {
      "cell_type": "markdown",
      "metadata": {
        "id": "M0_OhfiDpdPO"
      },
      "source": [
        "#Ülkelere göre aşılama çalışmaları(COVID-19 World Vaccination Progress)"
      ]
    },
    {
      "cell_type": "markdown",
      "metadata": {
        "id": "m5viGx0epfL3"
      },
      "source": [
        "##Verilerin Okunması\n"
      ]
    },
    {
      "cell_type": "code",
      "metadata": {
        "colab": {
          "base_uri": "https://localhost:8080/"
        },
        "id": "nDrD3FNgihpj",
        "outputId": "3b04aad8-388a-407c-f2d5-6eba4f08033a"
      },
      "source": [
        "import pandas as pd\n",
        "import numpy as np\n",
        "import matplotlib.pyplot as plt\n",
        "from sklearn import datasets,linear_model\n",
        "from sklearn.preprocessing import LabelEncoder\n",
        "from sklearn.linear_model import LinearRegression\n",
        "from sklearn.metrics import mean_squared_error,r2_score,accuracy_score\n",
        "import sklearn.metrics as mt\n",
        "from google.colab import drive\n",
        "from sklearn.model_selection import train_test_split\n",
        "from sklearn.linear_model import LogisticRegression\n",
        "drive.mount('/content/gdrive/')\n",
        "dosyaYolu=\"gdrive/MyDrive/ColabNotebooks/country_vaccinations.csv\"\n",
        "dosya=pd.read_csv(dosyaYolu)\n",
        "\n"
      ],
      "execution_count": 33,
      "outputs": [
        {
          "output_type": "stream",
          "text": [
            "Drive already mounted at /content/gdrive/; to attempt to forcibly remount, call drive.mount(\"/content/gdrive/\", force_remount=True).\n"
          ],
          "name": "stdout"
        }
      ]
    },
    {
      "cell_type": "markdown",
      "metadata": {
        "id": "3zsRoeTTwsfR"
      },
      "source": [
        "## Boş verilerin temizlenmesi ve yerine ortanca değerlerinin atanması\n",
        "\n",
        "> Tabloda bulunan boş verilerin,hesaplamayı yanlış çıkarmaması için yerlerine,o sütunda bulnan verilerin ortanca değerleri veya ortalama değeri atanabilir.\n",
        "\n"
      ]
    },
    {
      "cell_type": "code",
      "metadata": {
        "id": "yrlt6I0AwklU"
      },
      "source": [
        "dosya.total_vaccinations=dosya.total_vaccinations.fillna(dosya.total_vaccinations.median())\n",
        "\n",
        "dosya.people_vaccinated=dosya.people_vaccinated.fillna(dosya.people_vaccinated.median())\n",
        "\n",
        "dosya.people_fully_vaccinated=dosya.people_fully_vaccinated.fillna(dosya.people_fully_vaccinated.median())\n",
        "\n",
        "dosya.daily_vaccinations_raw=dosya.daily_vaccinations_raw.fillna(dosya.daily_vaccinations_raw.median())\n",
        "\n",
        "dosya.daily_vaccinations=dosya.daily_vaccinations.fillna(dosya.daily_vaccinations.median())\n",
        "\n",
        "dosya.total_vaccinations=dosya.total_vaccinations.fillna(dosya.total_vaccinations.median())\n",
        "\n",
        "dosya.total_vaccinations_per_hundred=dosya.total_vaccinations_per_hundred.fillna(dosya.total_vaccinations_per_hundred.median())\n",
        "\n",
        "dosya.people_vaccinated_per_hundred=dosya.people_vaccinated_per_hundred.fillna(dosya.people_vaccinated_per_hundred.median())\n",
        "\n",
        "dosya.people_fully_vaccinated_per_hundred=dosya.people_fully_vaccinated_per_hundred.fillna(dosya.people_fully_vaccinated_per_hundred.median())\n",
        "\n",
        "dosya.daily_vaccinations_per_million=dosya.daily_vaccinations_per_million.fillna(dosya.daily_vaccinations_per_million.median())"
      ],
      "execution_count": 40,
      "outputs": []
    },
    {
      "cell_type": "markdown",
      "metadata": {
        "id": "E_is1TDy5juX"
      },
      "source": [
        "#Sayısal değer olmayan verilerin,sayısal değere dönüştürülmesi\n",
        "\n",
        "> Bağzı değerlerle işlem yapmamız gerekebilir fakat bu değerler metin olduğu için verilerin işlenmesi zor olur,bu sebebten dolayı metin değer olarak girilmiş verilere etiket bir sayı atanır.\n",
        " \n",
        "**örnek**\n",
        "```\n",
        "Afganistan Iso kodu=AFG=1\n",
        "Türkiye Iso kodu=TUR=2\n",
        "```\n",
        "Burada normalde TUR şeklinde olan ifadeye 2 değerini atadık.\n",
        "\n",
        "\n"
      ]
    },
    {
      "cell_type": "code",
      "metadata": {
        "id": "cr7YGMGghhSh"
      },
      "source": [
        "#encoder sınıfının tanımlanması\n",
        "label = LabelEncoder()\n",
        "#metinsel değere sahip olan sütunların LabelEncoder kullanarak sayısal değere çevrilmesi.\n",
        "#Bu işlemi metin değerleri de hesaplamaya katabilmek için yapıyoruz.\n",
        "\n",
        "dosya.iso_code=label.fit_transform(dosya.iso_code)\n",
        "dosya.vaccines=label.fit_transform(dosya.vaccines)\n",
        "dosya.source_name=label.fit_transform(dosya.source_name)\n"
      ],
      "execution_count": 3,
      "outputs": []
    },
    {
      "cell_type": "code",
      "metadata": {
        "colab": {
          "base_uri": "https://localhost:8080/",
          "height": 497
        },
        "id": "uILzQGlt8vMB",
        "outputId": "12562a60-d1f7-4b3f-cc8e-19d1035a3599"
      },
      "source": [
        "print(dosya.people_vaccinated)\n",
        "plt.scatter(dosya.daily_vaccinations_per_million,dosya.total_vaccinations)"
      ],
      "execution_count": 4,
      "outputs": [
        {
          "output_type": "stream",
          "text": [
            "0             0.0\n",
            "1        291053.0\n",
            "2        291053.0\n",
            "3        291053.0\n",
            "4        291053.0\n",
            "           ...   \n",
            "10752    111588.0\n",
            "10753    117297.0\n",
            "10754    123454.0\n",
            "10755    139133.0\n",
            "10756    153238.0\n",
            "Name: people_vaccinated, Length: 10757, dtype: float64\n"
          ],
          "name": "stdout"
        },
        {
          "output_type": "execute_result",
          "data": {
            "text/plain": [
              "<matplotlib.collections.PathCollection at 0x7f9498ec7310>"
            ]
          },
          "metadata": {
            "tags": []
          },
          "execution_count": 4
        },
        {
          "output_type": "display_data",
          "data": {
            "image/png": "[encoded data removed]",
            "text/plain": [
              "<Figure size 432x288 with 1 Axes>"
            ]
          },
          "metadata": {
            "tags": [],
            "needs_background": "light"
          }
        }
      ]
    },
    {
      "cell_type": "code",
      "metadata": {
        "colab": {
          "base_uri": "https://localhost:8080/",
          "height": 282
        },
        "id": "fXKEuGBuhx1r",
        "outputId": "30db5532-7e33-4e78-f5b6-69b3d15fcddf"
      },
      "source": [
        "import datetime\n",
        "veriler = pd.DataFrame(dosya,columns=['country','daily_vaccinations','daily_vaccinations_per_million','date','people_vaccinated'])\n",
        "veriler2=veriler.loc[veriler['country']=='Turkey']\n",
        "plt.scatter(pd.to_datetime(veriler2['date']),veriler2['daily_vaccinations'])\n"
      ],
      "execution_count": 52,
      "outputs": [
        {
          "output_type": "execute_result",
          "data": {
            "text/plain": [
              "<matplotlib.collections.PathCollection at 0x7f9494111910>"
            ]
          },
          "metadata": {
            "tags": []
          },
          "execution_count": 52
        },
        {
          "output_type": "display_data",
          "data": {
            "image/png": "[encoded data removed]",
            "text/plain": [
              "<Figure size 432x288 with 1 Axes>"
            ]
          },
          "metadata": {
            "tags": [],
            "needs_background": "light"
          }
        }
      ]
    },
    {
      "cell_type": "markdown",
      "metadata": {
        "id": "NXmkc7gsgyqM"
      },
      "source": [
        "#Verilerin eğitilmesi \n",
        "\n",
        "\n",
        "> Verilerimizi eğitmek için **train_test_split** metodunu kullanıyoruz.Bu metot \n",
        "\n"
      ]
    },
    {
      "cell_type": "code",
      "metadata": {
        "id": "ZDtxnUQ3avBt",
        "colab": {
          "base_uri": "https://localhost:8080/"
        },
        "outputId": "3fe6bac9-e7ef-4684-9655-6c8072d7dcd9"
      },
      "source": [
        "x_train,x_test,y_train,y_test=train_test_split(veriler2['daily_vaccinations'],veriler2['people_vaccinated'],test_size=1,random_state=15)\n",
        "\n",
        "from sklearn.preprocessing import StandardScaler\n",
        "sc=StandardScaler()\n",
        "x_train=x_train.values.reshape(-1,1)\n",
        "x_test=x_test.values.reshape(-1,1)\n",
        "x_train=sc.fit_transform(x_train)\n",
        "x_test=sc.transform(x_test)\n",
        "\n",
        "logr=LogisticRegression(random_state=1)\n",
        "logr.fit(x_train,y_train)"
      ],
      "execution_count": 59,
      "outputs": [
        {
          "output_type": "execute_result",
          "data": {
            "text/plain": [
              "LogisticRegression(C=1.0, class_weight=None, dual=False, fit_intercept=True,\n",
              "                   intercept_scaling=1, l1_ratio=None, max_iter=100,\n",
              "                   multi_class='auto', n_jobs=None, penalty='l2',\n",
              "                   random_state=1, solver='lbfgs', tol=0.0001, verbose=0,\n",
              "                   warm_start=False)"
            ]
          },
          "metadata": {
            "tags": []
          },
          "execution_count": 59
        }
      ]
    },
    {
      "cell_type": "code",
      "metadata": {
        "colab": {
          "base_uri": "https://localhost:8080/"
        },
        "id": "zqtpYQsDixIB",
        "outputId": "003305d6-7d2d-436b-98a4-c477d107376f"
      },
      "source": [
        "print(y_train)"
      ],
      "execution_count": 60,
      "outputs": [
        {
          "output_type": "stream",
          "text": [
            "9951     6582239.0\n",
            "9917      291053.0\n",
            "9911      291053.0\n",
            "9992    10359390.0\n",
            "9972     7991510.0\n",
            "           ...    \n",
            "9936      291053.0\n",
            "9908      291053.0\n",
            "9913      291053.0\n",
            "9920      291053.0\n",
            "9980     8195554.0\n",
            "Name: people_vaccinated, Length: 86, dtype: float64\n"
          ],
          "name": "stdout"
        }
      ]
    },
    {
      "cell_type": "code",
      "metadata": {
        "colab": {
          "base_uri": "https://localhost:8080/"
        },
        "id": "1P99Ar5kwGxC",
        "outputId": "5571b744-656e-4590-ea20-43e923587075"
      },
      "source": [
        "y_pred=logr.predict(x_test)\n",
        "print(y_pred)\n",
        "print(y_test)\n"
      ],
      "execution_count": 61,
      "outputs": [
        {
          "output_type": "stream",
          "text": [
            "[291053.]\n",
            "9933    291053.0\n",
            "Name: people_vaccinated, dtype: float64\n"
          ],
          "name": "stdout"
        }
      ]
    },
    {
      "cell_type": "code",
      "metadata": {
        "colab": {
          "base_uri": "https://localhost:8080/"
        },
        "id": "T04C8L7XwJgR",
        "outputId": "a774f292-5afe-4c6d-99c2-8a55b8154a46"
      },
      "source": [
        "acuracy=accuracy_score(y_true=y_test,y_pred=y_pred)\n",
        "print(\"Doğruluk: % {:10.2f}\".format(acuracy*100))"
      ],
      "execution_count": 62,
      "outputs": [
        {
          "output_type": "stream",
          "text": [
            "Doğruluk: %     100.00\n"
          ],
          "name": "stdout"
        }
      ]
    },
    {
      "cell_type": "code",
      "metadata": {
        "colab": {
          "base_uri": "https://localhost:8080/",
          "height": 394
        },
        "id": "WhASjom8hYmc",
        "outputId": "2d6b6b89-1ac0-4dc4-c053-eb7c6f6746d6"
      },
      "source": [
        "dosya.head()"
      ],
      "execution_count": 43,
      "outputs": [
        {
          "output_type": "execute_result",
          "data": {
            "text/html": [
              "<div>\n",
              "<style scoped>\n",
              "    .dataframe tbody tr th:only-of-type {\n",
              "        vertical-align: middle;\n",
              "    }\n",
              "\n",
              "    .dataframe tbody tr th {\n",
              "        vertical-align: top;\n",
              "    }\n",
              "\n",
              "    .dataframe thead th {\n",
              "        text-align: right;\n",
              "    }\n",
              "</style>\n",
              "<table border=\"1\" class=\"dataframe\">\n",
              "  <thead>\n",
              "    <tr style=\"text-align: right;\">\n",
              "      <th></th>\n",
              "      <th>country</th>\n",
              "      <th>iso_code</th>\n",
              "      <th>date</th>\n",
              "      <th>total_vaccinations</th>\n",
              "      <th>people_vaccinated</th>\n",
              "      <th>people_fully_vaccinated</th>\n",
              "      <th>daily_vaccinations_raw</th>\n",
              "      <th>daily_vaccinations</th>\n",
              "      <th>total_vaccinations_per_hundred</th>\n",
              "      <th>people_vaccinated_per_hundred</th>\n",
              "      <th>people_fully_vaccinated_per_hundred</th>\n",
              "      <th>daily_vaccinations_per_million</th>\n",
              "      <th>vaccines</th>\n",
              "      <th>source_name</th>\n",
              "      <th>source_website</th>\n",
              "    </tr>\n",
              "  </thead>\n",
              "  <tbody>\n",
              "    <tr>\n",
              "      <th>0</th>\n",
              "      <td>Afghanistan</td>\n",
              "      <td>AFG</td>\n",
              "      <td>2021-02-22</td>\n",
              "      <td>0.0</td>\n",
              "      <td>0.0</td>\n",
              "      <td>142907.5</td>\n",
              "      <td>15177.0</td>\n",
              "      <td>5949.0</td>\n",
              "      <td>0.00</td>\n",
              "      <td>0.000</td>\n",
              "      <td>1.68</td>\n",
              "      <td>1395.0</td>\n",
              "      <td>Oxford/AstraZeneca</td>\n",
              "      <td>Government of Afghanistan</td>\n",
              "      <td>http://www.xinhuanet.com/english/asiapacific/2...</td>\n",
              "    </tr>\n",
              "    <tr>\n",
              "      <th>1</th>\n",
              "      <td>Afghanistan</td>\n",
              "      <td>AFG</td>\n",
              "      <td>2021-02-23</td>\n",
              "      <td>342879.5</td>\n",
              "      <td>291053.0</td>\n",
              "      <td>142907.5</td>\n",
              "      <td>15177.0</td>\n",
              "      <td>1367.0</td>\n",
              "      <td>4.66</td>\n",
              "      <td>3.735</td>\n",
              "      <td>1.68</td>\n",
              "      <td>35.0</td>\n",
              "      <td>Oxford/AstraZeneca</td>\n",
              "      <td>Government of Afghanistan</td>\n",
              "      <td>http://www.xinhuanet.com/english/asiapacific/2...</td>\n",
              "    </tr>\n",
              "    <tr>\n",
              "      <th>2</th>\n",
              "      <td>Afghanistan</td>\n",
              "      <td>AFG</td>\n",
              "      <td>2021-02-24</td>\n",
              "      <td>342879.5</td>\n",
              "      <td>291053.0</td>\n",
              "      <td>142907.5</td>\n",
              "      <td>15177.0</td>\n",
              "      <td>1367.0</td>\n",
              "      <td>4.66</td>\n",
              "      <td>3.735</td>\n",
              "      <td>1.68</td>\n",
              "      <td>35.0</td>\n",
              "      <td>Oxford/AstraZeneca</td>\n",
              "      <td>Government of Afghanistan</td>\n",
              "      <td>http://www.xinhuanet.com/english/asiapacific/2...</td>\n",
              "    </tr>\n",
              "    <tr>\n",
              "      <th>3</th>\n",
              "      <td>Afghanistan</td>\n",
              "      <td>AFG</td>\n",
              "      <td>2021-02-25</td>\n",
              "      <td>342879.5</td>\n",
              "      <td>291053.0</td>\n",
              "      <td>142907.5</td>\n",
              "      <td>15177.0</td>\n",
              "      <td>1367.0</td>\n",
              "      <td>4.66</td>\n",
              "      <td>3.735</td>\n",
              "      <td>1.68</td>\n",
              "      <td>35.0</td>\n",
              "      <td>Oxford/AstraZeneca</td>\n",
              "      <td>Government of Afghanistan</td>\n",
              "      <td>http://www.xinhuanet.com/english/asiapacific/2...</td>\n",
              "    </tr>\n",
              "    <tr>\n",
              "      <th>4</th>\n",
              "      <td>Afghanistan</td>\n",
              "      <td>AFG</td>\n",
              "      <td>2021-02-26</td>\n",
              "      <td>342879.5</td>\n",
              "      <td>291053.0</td>\n",
              "      <td>142907.5</td>\n",
              "      <td>15177.0</td>\n",
              "      <td>1367.0</td>\n",
              "      <td>4.66</td>\n",
              "      <td>3.735</td>\n",
              "      <td>1.68</td>\n",
              "      <td>35.0</td>\n",
              "      <td>Oxford/AstraZeneca</td>\n",
              "      <td>Government of Afghanistan</td>\n",
              "      <td>http://www.xinhuanet.com/english/asiapacific/2...</td>\n",
              "    </tr>\n",
              "  </tbody>\n",
              "</table>\n",
              "</div>"
            ],
            "text/plain": [
              "       country  ...                                     source_website\n",
              "0  Afghanistan  ...  http://www.xinhuanet.com/english/asiapacific/2...\n",
              "1  Afghanistan  ...  http://www.xinhuanet.com/english/asiapacific/2...\n",
              "2  Afghanistan  ...  http://www.xinhuanet.com/english/asiapacific/2...\n",
              "3  Afghanistan  ...  http://www.xinhuanet.com/english/asiapacific/2...\n",
              "4  Afghanistan  ...  http://www.xinhuanet.com/english/asiapacific/2...\n",
              "\n",
              "[5 rows x 15 columns]"
            ]
          },
          "metadata": {
            "tags": []
          },
          "execution_count": 43
        }
      ]
    }
  ]
}